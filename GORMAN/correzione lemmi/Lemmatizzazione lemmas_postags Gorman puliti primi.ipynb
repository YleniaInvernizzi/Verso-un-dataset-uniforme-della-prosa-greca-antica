{
 "cells": [
  {
   "cell_type": "code",
   "execution_count": 8,
   "metadata": {},
   "outputs": [],
   "source": [
    "import pandas as pd\n",
    "import os"
   ]
  },
  {
   "cell_type": "markdown",
   "metadata": {},
   "source": [
    "## Dizionario di quelli corretti"
   ]
  },
  {
   "cell_type": "code",
   "execution_count": 9,
   "metadata": {},
   "outputs": [],
   "source": [
    "def create_dic(df):\n",
    "    # Define the columns (adjust as needed)\n",
    "    lemma_cols = [\n",
    "            'gorman_lemma_1',\n",
    "    'gorman_lemma_2',\n",
    "    'gorman_lemma_3',\n",
    "    'gorman_lemma_4',\n",
    "    'gorman_lemma_5',\n",
    "    'gorman_lemma_6',\n",
    "    'gorman_lemma_7',\n",
    "    'gorman_lemma_8',\n",
    "    'gorman_lemma_9',\n",
    "    'gorman_lemma_10',\n",
    "    'gorman_lemma_11',\n",
    "    'gorman_lemma_12',\n",
    "    'gorman_lemma_13',\n",
    "    'gorman_lemma_14',\n",
    "    'gpt_lemma_1',\n",
    "    'gpt_lemma_2',\n",
    "    'gpt_lemma_3',\n",
    "    'gpt_lemma_4',\n",
    "    'gpt_lemma_5',\n",
    "    'gpt_lemma_6',\n",
    "    'gpt_lemma_7',\n",
    "    'gpt_lemma_8',\n",
    "    'gpt_lemma_9',\n",
    "    'gpt_lemma_10',\n",
    "    'gpt_lemma_11',\n",
    "    'gpt_lemma_12',\n",
    "    'gpt_lemma_13',\n",
    "    'gpt_lemma_14',\n",
    "            'lemma_pedalion_1', 'lemma_pedalion_2', 'lemma_pedalion_3',\n",
    "            'lemma_pedalion_4', 'lemma_pedalion_5', 'lemma_pedalion_6',\n",
    "            'lemma_pedalion_7', 'lemma_pedalion_8', 'lemma_pedalion_9',\n",
    "            'lemma_pedalion_10', 'lemma_pedalion_11', 'lemma_pedalion_12',\n",
    "            'lemma_pedalion_13', 'lemma_pedalion_14', 'lemma_pedalion_15',\n",
    "            'lemma_pedalion_16', 'lemma_pedalion_17'\n",
    "        ]\n",
    "    postag_cols = ['postag_1',\n",
    "    'postag_2',\n",
    "    'postag_3',\n",
    "    'postag_4',\n",
    "    'postag_5',\n",
    "    'postag_6',\n",
    "    'postag_7',\n",
    "    'postag_8',\n",
    "    'postag_9',\n",
    "    'postag_10',\n",
    "    'postag_11',\n",
    "    'postag_12',\n",
    "    'postag_13',\n",
    "    'postag_14',\n",
    "    'postag_15',\n",
    "    'postag_16',\n",
    "    'postag_17',\n",
    "    'postag_18',\n",
    "    'postag_19']\n",
    "\n",
    "    # Dictionary to store consolidated data per @form\n",
    "    form_dict = {}\n",
    "    for _, row in df.iterrows():\n",
    "        form = row['@form']\n",
    "        if form not in form_dict:\n",
    "            form_dict[form] = {\"lemmas\": set(), \"postags\": set()}\n",
    "        # Gather lemma values (avoiding missing values)\n",
    "        for col in lemma_cols:\n",
    "            if col in df.columns:\n",
    "                value = row[col]\n",
    "                if pd.notnull(value):\n",
    "                    form_dict[form][\"lemmas\"].add(value)\n",
    "        # Gather postag values similarly\n",
    "        for col in postag_cols:\n",
    "            if col in df.columns:\n",
    "                value = row[col]\n",
    "                if pd.notnull(value):\n",
    "                    form_dict[form][\"postags\"].add(value)\n",
    "    return form_dict\n",
    "\n",
    "def merge_list_of_dicts(dict_list):\n",
    "    merged = {}\n",
    "    for d in dict_list:\n",
    "        for form, values in d.items():\n",
    "            if form in merged:\n",
    "                merged[form]['lemmas'].update(values['lemmas'])\n",
    "                merged[form]['postags'].update(values['postags'])\n",
    "            else:\n",
    "                merged[form] = {\n",
    "                    'lemmas': set(values['lemmas']),\n",
    "                    'postags': set(values['postags'])\n",
    "                }\n",
    "    return merged\n"
   ]
  },
  {
   "cell_type": "code",
   "execution_count": 10,
   "metadata": {},
   "outputs": [],
   "source": [
    "list_dir = os.listdir('correzione lemmi')\n",
    "lis = [pd.read_csv('correzione lemmi/'+i) for i in list_dir]\n",
    "dic_lis = []\n",
    "for df in lis:\n",
    "    dic = create_dic(df)\n",
    "    dic_lis.append(dic)\n",
    "merged_dic = merge_list_of_dicts(dic_lis)  "
   ]
  },
  {
   "cell_type": "markdown",
   "metadata": {},
   "source": [
    "## Cambio i lemmi usando quelli corretti "
   ]
  },
  {
   "cell_type": "code",
   "execution_count": 23,
   "metadata": {},
   "outputs": [],
   "source": [
    "def change_lemma(df,dic):\n",
    "    count = 0\n",
    "    count_pt = 0\n",
    "    for idx, row in df.iterrows():\n",
    "        form = row['form']\n",
    "        # Check if form exists in the dictionary\n",
    "        if form in dic:\n",
    "            valid_lemmas = dic[form]['lemmas']\n",
    "            # Check if the current lemma is not in the valid lemmas\n",
    "            if row['postag1'] not in valid_lemmas:\n",
    "                # Pick the first lemma (convert to list for ordering, or use next(iter(valid_lemmas)) if order doesn't matter)\n",
    "                if len(list(valid_lemmas))>0:\n",
    "                    new_lemma = list(valid_lemmas)[0]\n",
    "                    df.at[idx, 'lemma1'] = new_lemma\n",
    "                    count += 1\n",
    "            valid_postags = dic[form]['postags']\n",
    "            # Check if the current lemma is not in the valid lemmas\n",
    "            if row['postag1'] not in valid_postags:\n",
    "                # Pick the first lemma (convert to list for ordering, or use next(iter(valid_lemmas)) if order doesn't matter)\n",
    "                if len(list(valid_postags))>0:\n",
    "                    new_postag = list(valid_postags)[0]\n",
    "                    df.at[idx, 'postag1'] = new_postag\n",
    "                    count_pt += 1        \n",
    "    return count,count_pt,df\n",
    "\n"
   ]
  },
  {
   "cell_type": "code",
   "execution_count": 24,
   "metadata": {},
   "outputs": [
    {
     "name": "stdout",
     "output_type": "stream",
     "text": [
      "Index(['form', 'lemma1', 'lemma2', 'lemma3', 'lemma4', 'lemma5', 'lemma6',\n",
      "       'postag1', 'postag2', 'postag3', 'postag4', 'postag5', 'postag6',\n",
      "       'postag7', 'postag8', 'postag9', 'postag10'],\n",
      "      dtype='object')\n"
     ]
    },
    {
     "name": "stderr",
     "output_type": "stream",
     "text": [
      "C:\\Users\\lcolo\\AppData\\Local\\Temp\\ipykernel_19884\\2883933632.py:1: DtypeWarning: Columns (4,5,6,10,11,12,13,14,15,16) have mixed types. Specify dtype option on import or set low_memory=False.\n",
      "  df = pd.read_csv(\"lemmas_postags.csv\")\n"
     ]
    }
   ],
   "source": [
    "df = pd.read_csv(\"lemmas_postags.csv\")\n",
    "print(df.columns)"
   ]
  },
  {
   "cell_type": "code",
   "execution_count": 25,
   "metadata": {},
   "outputs": [
    {
     "name": "stderr",
     "output_type": "stream",
     "text": [
      "C:\\Users\\lcolo\\AppData\\Local\\Temp\\ipykernel_19884\\1380975325.py:10: DtypeWarning: Columns (4,5,6,10,11,12,13,14,15,16) have mixed types. Specify dtype option on import or set low_memory=False.\n",
      "  df = pd.read_csv(\"lemmas_postags.csv\")\n"
     ]
    },
    {
     "name": "stdout",
     "output_type": "stream",
     "text": [
      "Numero di lemmi modificati: 2937\n",
      "Numero di postag modificati: 110\n"
     ]
    }
   ],
   "source": [
    "# Diciamo che vuoi comunque un dizionario dei contatori\n",
    "count_dic_lemma_1 = {}\n",
    "count_dic_postag_1 = {}\n",
    "\n",
    "# Crei un’unica chiave (ad es. 'unico')\n",
    "count_dic_lemma_1['unico'] = 0\n",
    "count_dic_postag_1['unico'] = 0\n",
    "\n",
    "# Leggi il CSV unificato\n",
    "df = pd.read_csv(\"lemmas_postags.csv\")\n",
    "\n",
    "# Applica la funzione\n",
    "c_l, c_pt, df_corrected = change_lemma(df, merged_dic)\n",
    "\n",
    "# Aggiorna i contatori\n",
    "count_dic_lemma_1['unico'] += c_l\n",
    "count_dic_postag_1['unico'] += c_pt\n",
    "\n",
    "# Salva il risultato\n",
    "df_corrected.to_csv(\"lemmas_postags_corretto.csv\", index=False)\n",
    "\n",
    "# Stampa\n",
    "print(\"Numero di lemmi modificati:\", count_dic_lemma_1['unico'])\n",
    "print(\"Numero di postag modificati:\", count_dic_postag_1['unico'])\n"
   ]
  },
  {
   "cell_type": "markdown",
   "metadata": {},
   "source": [
    "## Carico il dataframe con i nuovi lemmi corretti dizionario_gpt_gorman_pedalion"
   ]
  },
  {
   "cell_type": "code",
   "execution_count": 26,
   "metadata": {},
   "outputs": [],
   "source": [
    "dizionario  = pd.read_csv('dizionario_gpt_gorman_pedalion_primi_corretti.csv')\n",
    "dizionario = dizionario.head(2354)"
   ]
  },
  {
   "cell_type": "code",
   "execution_count": 27,
   "metadata": {},
   "outputs": [],
   "source": [
    "def df_to_dict(df):\n",
    "    # Identify the columns for lemmas and postags\n",
    "    lemma_columns = [col for col in df.columns if col.startswith('lemma_')]\n",
    "    postag_columns = [col for col in df.columns if col.startswith('postag_')]\n",
    "    \n",
    "    result = {}\n",
    "    \n",
    "    # Iterate over each row in the DataFrame\n",
    "    for _, row in df.iterrows():\n",
    "        form = row['@form']\n",
    "        \n",
    "        # Initialize the dictionary entry if the form is encountered for the first time\n",
    "        if form not in result:\n",
    "            result[form] = {'lemmas': set(), 'postags': set()}\n",
    "        \n",
    "        # Add non-null and non-empty lemma values from the corresponding columns\n",
    "        for col in lemma_columns:\n",
    "            lemma = row[col]\n",
    "            if pd.notnull(lemma) and lemma != \"\":\n",
    "                result[form]['lemmas'].add(lemma)\n",
    "        \n",
    "        # Add non-null and non-empty postag values from the corresponding columns\n",
    "        for col in postag_columns:\n",
    "            postag = row[col]\n",
    "            if pd.notnull(postag) and postag != \"\":\n",
    "                result[form]['postags'].add(postag)\n",
    "                \n",
    "    return result"
   ]
  },
  {
   "cell_type": "code",
   "execution_count": 28,
   "metadata": {},
   "outputs": [],
   "source": [
    "dizionario_dic = df_to_dict(dizionario)"
   ]
  },
  {
   "cell_type": "markdown",
   "metadata": {},
   "source": [
    "## Modifico i lemmi (il risultato finale e' in output_gorman_no_anomalies_correct)"
   ]
  },
  {
   "cell_type": "code",
   "execution_count": 29,
   "metadata": {},
   "outputs": [
    {
     "name": "stderr",
     "output_type": "stream",
     "text": [
      "C:\\Users\\lcolo\\AppData\\Local\\Temp\\ipykernel_19884\\3442318949.py:8: DtypeWarning: Columns (4,5,6,10,11,12,13,14,15,16) have mixed types. Specify dtype option on import or set low_memory=False.\n",
      "  df_to_correct = pd.read_csv(\"lemmas_postags_corretto.csv\")\n"
     ]
    },
    {
     "name": "stdout",
     "output_type": "stream",
     "text": [
      "Numero di lemmi modificati: 2319\n",
      "Numero di postag modificati: 52\n"
     ]
    }
   ],
   "source": [
    "import pandas as pd\n",
    "\n",
    "# Supponendo tu abbia già definito:\n",
    "# - change_lemma(df, dizionario_dic)\n",
    "# - dizionario_dic (il tuo dizionario con form -> set lemmi, set postag)\n",
    "\n",
    "# Carica il CSV da correggere\n",
    "df_to_correct = pd.read_csv(\"lemmas_postags_corretto.csv\")\n",
    "\n",
    "# Applica la funzione di correzione\n",
    "count_lemma_changes, count_postag_changes, df_corrected = change_lemma(df_to_correct, dizionario_dic)\n",
    "\n",
    "# Mostra i conteggi delle modifiche\n",
    "print(\"Numero di lemmi modificati:\", count_lemma_changes)\n",
    "print(\"Numero di postag modificati:\", count_postag_changes)\n",
    "\n",
    "# Salva il risultato corretto in un nuovo file\n",
    "df_corrected.to_csv(\"lemmas_postags_corretto.csv\", index=False)\n"
   ]
  }
 ],
 "metadata": {
  "kernelspec": {
   "display_name": "TESI",
   "language": "python",
   "name": "python3"
  },
  "language_info": {
   "codemirror_mode": {
    "name": "ipython",
    "version": 3
   },
   "file_extension": ".py",
   "mimetype": "text/x-python",
   "name": "python",
   "nbconvert_exporter": "python",
   "pygments_lexer": "ipython3",
   "version": "3.9.19"
  }
 },
 "nbformat": 4,
 "nbformat_minor": 2
}
